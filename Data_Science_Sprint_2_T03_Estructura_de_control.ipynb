{
  "nbformat": 4,
  "nbformat_minor": 0,
  "metadata": {
    "colab": {
      "name": "Data Science - Sprint 2. T03 - Estructura de control.ipynb",
      "provenance": [],
      "toc_visible": true,
      "authorship_tag": "ABX9TyMo4KETRRRRtO8T/Uf6qYfN",
      "include_colab_link": true
    },
    "kernelspec": {
      "name": "python3",
      "display_name": "Python 3"
    },
    "language_info": {
      "name": "python"
    }
  },
  "cells": [
    {
      "cell_type": "markdown",
      "metadata": {
        "id": "view-in-github",
        "colab_type": "text"
      },
      "source": [
        "<a href=\"https://colab.research.google.com/github/davifebdn/estructures_control/blob/main/Data_Science_Sprint_2_T03_Estructura_de_control.ipynb\" target=\"_parent\"><img src=\"https://colab.research.google.com/assets/colab-badge.svg\" alt=\"Open In Colab\"/></a>"
      ]
    },
    {
      "cell_type": "markdown",
      "source": [
        "#  S02 T03: Estructura de control\n",
        "Comencem a familiaritzar-nos amb les estructures de control de Python "
      ],
      "metadata": {
        "id": "LXEtIpI34kpB"
      }
    },
    {
      "cell_type": "markdown",
      "source": [
        "## Nivell 1"
      ],
      "metadata": {
        "id": "Vjav7Lt64pMY"
      }
    },
    {
      "cell_type": "markdown",
      "source": [
        "### Exercici 1\n",
        "\n",
        "L'exercici consisteix a crear un programa que et classifiqui una variable numèrica en funció de l’escala Suspès/Aprovat/Notable/Excel·lent. "
      ],
      "metadata": {
        "id": "w0YUMLgQ4urI"
      }
    },
    {
      "cell_type": "code",
      "source": [
        "nota = input(\"Digues una nota:\")\n",
        "if int(nota) >= 0 and int(nota) < 5:\n",
        "  print(\"Has suspès.\")\n",
        "elif int(nota) >= 5 and int(nota) < 7:\n",
        "  print(\"Has aprovat.\")\n",
        "elif int(nota) >= 7 and int(nota) < 10:\n",
        "  print(\"Has tret un notable.\")\n",
        "elif int(nota) == 10:\n",
        "  print(\"Has tret un excel·lent!\")\n",
        "else:\n",
        "  print(\"Introdueix una nota correcta!\")"
      ],
      "metadata": {
        "colab": {
          "base_uri": "https://localhost:8080/"
        },
        "id": "avNzT2Wh5tvl",
        "outputId": "240d8ea3-e52e-43a8-ccfb-6c23823739e8"
      },
      "execution_count": 8,
      "outputs": [
        {
          "output_type": "stream",
          "name": "stdout",
          "text": [
            "Digues una nota:5\n",
            "Has aprovat.\n"
          ]
        }
      ]
    },
    {
      "cell_type": "markdown",
      "source": [
        "### Exercici 2\n",
        "\n",
        "Utilitzant el següent tutorial Programiz: Python Input, Output and Import crea un programa que et pregunti dos números. T’ha de mostrar un missatge dient si el primer és més gran, el segon és més gran o són iguals."
      ],
      "metadata": {
        "id": "oBeB5GaG9CE9"
      }
    },
    {
      "cell_type": "code",
      "source": [
        "num1 = input(\"Digue'm un número:\")\n",
        "num2 = input(\"Digue'm un segon número:\")\n",
        "if int(num1) > int(num2):\n",
        "  print(num1, \"és més gran que\", num2)\n",
        "elif int(num1) == int(num2):\n",
        "  print(num1, \"i\", num2, \"són iguals\")\n",
        "else:\n",
        "  print(num1, \"és més petit que\", num2)"
      ],
      "metadata": {
        "id": "srT_9TPkX-T6",
        "outputId": "e711660b-a4fe-42f5-d8a8-c742dc369439",
        "colab": {
          "base_uri": "https://localhost:8080/"
        }
      },
      "execution_count": 9,
      "outputs": [
        {
          "output_type": "stream",
          "name": "stdout",
          "text": [
            "Digue'm un número:1\n",
            "Digue'm un segon número:2\n",
            "1 és més petit que 2\n"
          ]
        }
      ]
    },
    {
      "cell_type": "markdown",
      "source": [
        "### Exercici 3\n",
        "\n",
        "Crea un programa que et pregunti el teu nom, i et demani un número. Si el número és 0, hauria de mostrar un missatge d’error. En cas contrari, hauria de mostrar el nom repetit tants cops com indiqui el número. Per exemple, “Joan Joan Joan”."
      ],
      "metadata": {
        "id": "XgC6ZIviaU9E"
      }
    },
    {
      "cell_type": "code",
      "source": [
        "nom = input(\"Com et dius?\\n\")\n",
        "num = input(\"Digue'm un número:\\n\")\n",
        "if int(num) == 0:\n",
        "  print(\"Aquest número no és vàlid!\")\n",
        "else:\n",
        "  nom = nom + \" \"\n",
        "  print(int(num) * nom)"
      ],
      "metadata": {
        "id": "X1ftqAqQaZP8",
        "outputId": "6ba29cce-923f-490b-b63a-242450779c97",
        "colab": {
          "base_uri": "https://localhost:8080/"
        }
      },
      "execution_count": 16,
      "outputs": [
        {
          "output_type": "stream",
          "name": "stdout",
          "text": [
            "Com et dius?\n",
            "David\n",
            "Digue'm un número:\n",
            "4\n",
            "David David David David \n"
          ]
        }
      ]
    },
    {
      "cell_type": "markdown",
      "source": [
        "### Exercici 4\n",
        "\n",
        "Crea un programa que donada una llista qualsevol, et digui si es simètrica o no. Si ho és, que et digui quants elements té."
      ],
      "metadata": {
        "id": "0QFcErBvb2PS"
      }
    },
    {
      "cell_type": "code",
      "source": [
        ""
      ],
      "metadata": {
        "id": "gaDEnDDvb4eC"
      },
      "execution_count": null,
      "outputs": []
    }
  ]
}