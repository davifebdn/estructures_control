{
  "nbformat": 4,
  "nbformat_minor": 0,
  "metadata": {
    "colab": {
      "name": "Data Science - Sprint 2. T03 - Estructura de control.ipynb",
      "provenance": [],
      "toc_visible": true,
      "authorship_tag": "ABX9TyPThsmmOosUcC8gua1zGSdP",
      "include_colab_link": true
    },
    "kernelspec": {
      "name": "python3",
      "display_name": "Python 3"
    },
    "language_info": {
      "name": "python"
    }
  },
  "cells": [
    {
      "cell_type": "markdown",
      "metadata": {
        "id": "view-in-github",
        "colab_type": "text"
      },
      "source": [
        "<a href=\"https://colab.research.google.com/github/davifebdn/estructures_control/blob/main/Data_Science_Sprint_2_T03_Estructura_de_control.ipynb\" target=\"_parent\"><img src=\"https://colab.research.google.com/assets/colab-badge.svg\" alt=\"Open In Colab\"/></a>"
      ]
    },
    {
      "cell_type": "markdown",
      "source": [
        "#  S02 T03: Estructura de control\n",
        "Comencem a familiaritzar-nos amb les estructures de control de Python "
      ],
      "metadata": {
        "id": "LXEtIpI34kpB"
      }
    },
    {
      "cell_type": "markdown",
      "source": [
        "## Nivell 1"
      ],
      "metadata": {
        "id": "Vjav7Lt64pMY"
      }
    },
    {
      "cell_type": "markdown",
      "source": [
        "### Exercici 1\n",
        "\n",
        "L'exercici consisteix a crear un programa que et classifiqui una variable numèrica en funció de l’escala Suspès/Aprovat/Notable/Excel·lent. "
      ],
      "metadata": {
        "id": "w0YUMLgQ4urI"
      }
    },
    {
      "cell_type": "code",
      "source": [
        "nota = input(\"Digues una nota:\")\n",
        "if int(nota) >= 0 and int(nota) < 5:\n",
        "  print(\"Has suspès.\")\n",
        "elif int(nota) >= 5 and int(nota) < 7:\n",
        "  print(\"Has aprovat.\")\n",
        "elif int(nota) >= 7 and int(nota) < 10:\n",
        "  print(\"Has tret un notable.\")\n",
        "elif int(nota) == 10:\n",
        "  print(\"Has tret un excel·lent!\")\n",
        "else:\n",
        "  print(\"Introdueix una nota correcta!\")"
      ],
      "metadata": {
        "colab": {
          "base_uri": "https://localhost:8080/"
        },
        "id": "avNzT2Wh5tvl",
        "outputId": "7b6acf7f-6301-4065-bb3a-2aca303a3714"
      },
      "execution_count": 15,
      "outputs": [
        {
          "output_type": "stream",
          "name": "stdout",
          "text": [
            "Digues una nota:5\n",
            "Has aprovat.\n"
          ]
        }
      ]
    },
    {
      "cell_type": "markdown",
      "source": [
        "### Exercici 2\n",
        "\n",
        "Utilitzant el següent tutorial Programiz: Python Input, Output and Import crea un programa que et pregunti dos números. T’ha de mostrar un missatge dient si el primer és més gran, el segon és més gran o són iguals."
      ],
      "metadata": {
        "id": "oBeB5GaG9CE9"
      }
    },
    {
      "cell_type": "markdown",
      "source": [
        ""
      ],
      "metadata": {
        "id": "0ZyW_v5Q9Eme"
      }
    }
  ]
}