{
  "nbformat": 4,
  "nbformat_minor": 0,
  "metadata": {
    "colab": {
      "name": "Data Science - Sprint 2. T03 - Estructura de control.ipynb",
      "provenance": [],
      "authorship_tag": "ABX9TyMaFLwP9QvVL+9cizojqoBn",
      "include_colab_link": true
    },
    "kernelspec": {
      "name": "python3",
      "display_name": "Python 3"
    },
    "language_info": {
      "name": "python"
    }
  },
  "cells": [
    {
      "cell_type": "markdown",
      "metadata": {
        "id": "view-in-github",
        "colab_type": "text"
      },
      "source": [
        "<a href=\"https://colab.research.google.com/github/davifebdn/estructures_control/blob/main/Data_Science_Sprint_2_T03_Estructura_de_control.ipynb\" target=\"_parent\"><img src=\"https://colab.research.google.com/assets/colab-badge.svg\" alt=\"Open In Colab\"/></a>"
      ]
    },
    {
      "cell_type": "code",
      "execution_count": null,
      "metadata": {
        "id": "jVU5RmEJ4UXJ"
      },
      "outputs": [],
      "source": [
        ""
      ]
    }
  ]
}